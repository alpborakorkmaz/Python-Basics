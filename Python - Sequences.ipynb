{
 "cells": [
  {
   "cell_type": "code",
   "execution_count": 18,
   "id": "c49dc49f",
   "metadata": {},
   "outputs": [
    {
     "data": {
      "text/plain": [
       "['Rachel', 'Ross', 'Monica', 'Joey', 'Phoebe', 'Chandler']"
      ]
     },
     "execution_count": 18,
     "metadata": {},
     "output_type": "execute_result"
    }
   ],
   "source": [
    "Friends=[\"Rachel\",\"Ross\",\"Monica\",\"Joey\",\"Phoebe\",\"Chandler\"]\n",
    "Friends"
   ]
  },
  {
   "cell_type": "code",
   "execution_count": 19,
   "id": "30cb66cb",
   "metadata": {},
   "outputs": [
    {
     "data": {
      "text/plain": [
       "'Chandler'"
      ]
     },
     "execution_count": 19,
     "metadata": {},
     "output_type": "execute_result"
    }
   ],
   "source": [
    "Friends[-1]\n"
   ]
  },
  {
   "cell_type": "code",
   "execution_count": 24,
   "id": "d6311e7d",
   "metadata": {},
   "outputs": [
    {
     "data": {
      "text/plain": [
       "['Rachel', 'Ross', 'Monica', 'Joey', 'Phoebe', 'Janice']"
      ]
     },
     "execution_count": 24,
     "metadata": {},
     "output_type": "execute_result"
    }
   ],
   "source": [
    "Friends[5]=\"Janice\"\n",
    "Friends"
   ]
  },
  {
   "cell_type": "code",
   "execution_count": 25,
   "id": "58cc46be",
   "metadata": {},
   "outputs": [
    {
     "data": {
      "text/plain": [
       "['Rachel', 'Ross', 'Monica', 'Joey', 'Janice']"
      ]
     },
     "execution_count": 25,
     "metadata": {},
     "output_type": "execute_result"
    }
   ],
   "source": [
    "del Friends[4]\n",
    "Friends"
   ]
  },
  {
   "cell_type": "code",
   "execution_count": 26,
   "id": "c232809a",
   "metadata": {},
   "outputs": [
    {
     "data": {
      "text/plain": [
       "['Rachel', 'Ross', 'Monica', 'Joey', 'Janice', 'Gunther']"
      ]
     },
     "execution_count": 26,
     "metadata": {},
     "output_type": "execute_result"
    }
   ],
   "source": [
    "Friends.append(\"Gunther\")\n",
    "Friends"
   ]
  },
  {
   "cell_type": "code",
   "execution_count": 28,
   "id": "2f349b8c",
   "metadata": {},
   "outputs": [
    {
     "data": {
      "text/plain": [
       "['Rachel', 'Ross', 'Monica', 'Joey', 'Janice', 'Gunther', 'Emily', 'Charlie']"
      ]
     },
     "execution_count": 28,
     "metadata": {},
     "output_type": "execute_result"
    }
   ],
   "source": [
    "ross_ex=[\"Emily\",\"Charlie\"]\n",
    "Friends.extend(ross_ex)\n",
    "Friends"
   ]
  },
  {
   "cell_type": "code",
   "execution_count": 31,
   "id": "465292d1",
   "metadata": {},
   "outputs": [
    {
     "name": "stdout",
     "output_type": "stream",
     "text": [
      "Monica is the most obsessed with cleaning.\n"
     ]
    }
   ],
   "source": [
    "print( Friends[2] + \" is the most obsessed with cleaning.\")"
   ]
  },
  {
   "cell_type": "code",
   "execution_count": 32,
   "id": "8cff2225",
   "metadata": {},
   "outputs": [
    {
     "data": {
      "text/plain": [
       "8"
      ]
     },
     "execution_count": 32,
     "metadata": {},
     "output_type": "execute_result"
    }
   ],
   "source": [
    "len(Friends)"
   ]
  },
  {
   "cell_type": "code",
   "execution_count": 33,
   "id": "f9bb5cf1",
   "metadata": {},
   "outputs": [
    {
     "name": "stdout",
     "output_type": "stream",
     "text": [
      "['Rachel', 'Ross', 'Monica', 'Joey', 'Janice', 'Gunther', 'Emily']\n"
     ]
    }
   ],
   "source": [
    "Friends.pop()\n",
    "print(Friends)"
   ]
  },
  {
   "cell_type": "code",
   "execution_count": 34,
   "id": "197cd77d",
   "metadata": {},
   "outputs": [
    {
     "data": {
      "text/plain": [
       "['Rachel', 'Ross', 'Monica']"
      ]
     },
     "execution_count": 34,
     "metadata": {},
     "output_type": "execute_result"
    }
   ],
   "source": [
    "Friends[:3]"
   ]
  },
  {
   "cell_type": "code",
   "execution_count": 35,
   "id": "88fe5795",
   "metadata": {},
   "outputs": [
    {
     "name": "stdout",
     "output_type": "stream",
     "text": [
      "[['Emily', 'Charlie'], ['Rachel', 'Ross', 'Monica']]\n"
     ]
    }
   ],
   "source": [
    "bigger_list=[ross_ex,Friends[:3]]\n",
    "print(bigger_list)"
   ]
  },
  {
   "cell_type": "code",
   "execution_count": 37,
   "id": "ae9b39ca",
   "metadata": {},
   "outputs": [
    {
     "name": "stdout",
     "output_type": "stream",
     "text": [
      "['Emily', 'Gunther', 'Janice', 'Joey', 'Monica', 'Rachel', 'Ross']\n"
     ]
    }
   ],
   "source": [
    "Friends.sort()\n",
    "print(Friends)"
   ]
  },
  {
   "cell_type": "code",
   "execution_count": 38,
   "id": "114becf5",
   "metadata": {},
   "outputs": [
    {
     "name": "stdout",
     "output_type": "stream",
     "text": [
      "['Ross', 'Rachel', 'Monica', 'Joey', 'Janice', 'Gunther', 'Emily']\n"
     ]
    }
   ],
   "source": [
    "Friends.sort(reverse=True)\n",
    "print(Friends)"
   ]
  },
  {
   "cell_type": "code",
   "execution_count": 41,
   "id": "86da438a",
   "metadata": {},
   "outputs": [
    {
     "data": {
      "text/plain": [
       "('apple', 'banana', 'mango', 'cherry')"
      ]
     },
     "execution_count": 41,
     "metadata": {},
     "output_type": "execute_result"
    }
   ],
   "source": [
    "##Tuple\n",
    "fruits=(\"apple\",\"banana\",\"mango\",\"cherry\")\n",
    "#fruits.pop() error \n",
    "fruits\n"
   ]
  },
  {
   "cell_type": "code",
   "execution_count": 44,
   "id": "782c7cc6",
   "metadata": {},
   "outputs": [
    {
     "name": "stdout",
     "output_type": "stream",
     "text": [
      "30\n",
      "17\n"
     ]
    }
   ],
   "source": [
    "(age,years_of_school)=(\"30,17\").split(\",\")\n",
    "print(age)\n",
    "print(years_of_school)"
   ]
  },
  {
   "cell_type": "code",
   "execution_count": 45,
   "id": "de5c307c",
   "metadata": {},
   "outputs": [
    {
     "name": "stdout",
     "output_type": "stream",
     "text": [
      "{'k1': 'cat', 'k2': 'dog', 'k3': 'fish'}\n"
     ]
    }
   ],
   "source": [
    "#Dictionaries\n",
    "dict={\"k1\":\"cat\",\"k2\":\"dog\",\"k3\":\"fish\"}\n",
    "print(dict)"
   ]
  },
  {
   "cell_type": "code",
   "execution_count": 47,
   "id": "c79cb042",
   "metadata": {},
   "outputs": [
    {
     "data": {
      "text/plain": [
       "'cat'"
      ]
     },
     "execution_count": 47,
     "metadata": {},
     "output_type": "execute_result"
    }
   ],
   "source": [
    "dict[\"k1\"]"
   ]
  },
  {
   "cell_type": "code",
   "execution_count": 49,
   "id": "20d97c78",
   "metadata": {},
   "outputs": [
    {
     "data": {
      "text/plain": [
       "{'k1': 'cat', 'k2': 'dog', 'k3': 'fish', 'k4': 'parrot'}"
      ]
     },
     "execution_count": 49,
     "metadata": {},
     "output_type": "execute_result"
    }
   ],
   "source": [
    "dict[\"k4\"]=\"parrot\"\n",
    "dict"
   ]
  },
  {
   "cell_type": "code",
   "execution_count": 50,
   "id": "57bda165",
   "metadata": {},
   "outputs": [
    {
     "name": "stdout",
     "output_type": "stream",
     "text": [
      "{'banana', 'apple', 'cherry'}\n"
     ]
    }
   ],
   "source": [
    "#sets\n",
    "thisset = {\"apple\", \"banana\", \"cherry\"}\n",
    "print(thisset)\n"
   ]
  },
  {
   "cell_type": "code",
   "execution_count": 53,
   "id": "cdb585ff",
   "metadata": {},
   "outputs": [
    {
     "name": "stdout",
     "output_type": "stream",
     "text": [
      "{'banana', 'apple', 'cherry'}\n"
     ]
    }
   ],
   "source": [
    "thisset = {\"apple\", \"banana\", \"cherry\", \"apple\"}\n",
    "\n",
    "print(thisset)"
   ]
  }
 ],
 "metadata": {
  "kernelspec": {
   "display_name": "Python 3 (ipykernel)",
   "language": "python",
   "name": "python3"
  },
  "language_info": {
   "codemirror_mode": {
    "name": "ipython",
    "version": 3
   },
   "file_extension": ".py",
   "mimetype": "text/x-python",
   "name": "python",
   "nbconvert_exporter": "python",
   "pygments_lexer": "ipython3",
   "version": "3.10.9"
  }
 },
 "nbformat": 4,
 "nbformat_minor": 5
}
