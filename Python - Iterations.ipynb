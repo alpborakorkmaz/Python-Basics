{
 "cells": [
  {
   "cell_type": "code",
   "execution_count": 21,
   "id": "505f40ba",
   "metadata": {},
   "outputs": [
    {
     "name": "stdout",
     "output_type": "stream",
     "text": [
      "0 2 4 6 8 10 12 14 16 18 20 "
     ]
    }
   ],
   "source": [
    "even=[0,2,4,6,8,10,12,14,16,18,20]\n",
    "for n in even:\n",
    "    print(n,end=\" \")"
   ]
  },
  {
   "cell_type": "code",
   "execution_count": 7,
   "id": "bb2b1cc7",
   "metadata": {},
   "outputs": [
    {
     "name": "stdout",
     "output_type": "stream",
     "text": [
      "0 2 4 6 8 10 12 14 16 18 20 "
     ]
    }
   ],
   "source": [
    "x=0\n",
    "while x<=20:\n",
    "    print(x,end=\" \")\n",
    "    x+=2"
   ]
  },
  {
   "cell_type": "code",
   "execution_count": 13,
   "id": "a49a572a",
   "metadata": {},
   "outputs": [
    {
     "data": {
      "text/plain": [
       "[0, 3, 6, 9, 12, 15, 18]"
      ]
     },
     "execution_count": 13,
     "metadata": {},
     "output_type": "execute_result"
    }
   ],
   "source": [
    "list(range(0,20,3))"
   ]
  },
  {
   "cell_type": "code",
   "execution_count": 31,
   "id": "62d922a1",
   "metadata": {},
   "outputs": [],
   "source": [
    "def oddNumber(x):\n",
    "    for n in range(x):\n",
    "        if n%2==0:\n",
    "            pass\n",
    "        else:\n",
    "            print(n , \" is an Odd Number\") "
   ]
  },
  {
   "cell_type": "code",
   "execution_count": 37,
   "id": "a59e144f",
   "metadata": {},
   "outputs": [
    {
     "name": "stdout",
     "output_type": "stream",
     "text": [
      "1  is an Odd Number\n",
      "3  is an Odd Number\n",
      "5  is an Odd Number\n",
      "7  is an Odd Number\n",
      "9  is an Odd Number\n",
      "11  is an Odd Number\n",
      "13  is an Odd Number\n",
      "15  is an Odd Number\n",
      "17  is an Odd Number\n",
      "19  is an Odd Number\n"
     ]
    }
   ],
   "source": [
    "oddNumber(20)"
   ]
  },
  {
   "cell_type": "code",
   "execution_count": 41,
   "id": "35cc7884",
   "metadata": {},
   "outputs": [
    {
     "name": "stdout",
     "output_type": "stream",
     "text": [
      "103\n"
     ]
    }
   ],
   "source": [
    "price={\n",
    "    \"box_of_spaghetti\":4,\n",
    "    \"lasagna\":5,\n",
    "    \"hamburger\":3\n",
    "}\n",
    "quantity={\n",
    "    \"box_of_spaghetti\":7,\n",
    "    \"lasagna\":12,\n",
    "    \"hamburger\":5\n",
    "}\n",
    "total_money=0\n",
    "for i in price:\n",
    "    total_money+=price[i]*quantity[i]\n",
    "print(total_money)"
   ]
  }
 ],
 "metadata": {
  "kernelspec": {
   "display_name": "Python 3 (ipykernel)",
   "language": "python",
   "name": "python3"
  },
  "language_info": {
   "codemirror_mode": {
    "name": "ipython",
    "version": 3
   },
   "file_extension": ".py",
   "mimetype": "text/x-python",
   "name": "python",
   "nbconvert_exporter": "python",
   "pygments_lexer": "ipython3",
   "version": "3.10.9"
  }
 },
 "nbformat": 4,
 "nbformat_minor": 5
}
