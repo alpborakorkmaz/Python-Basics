{
 "cells": [
  {
   "cell_type": "code",
   "execution_count": 1,
   "id": "44481129",
   "metadata": {},
   "outputs": [
    {
     "name": "stdout",
     "output_type": "stream",
     "text": [
      "5\n"
     ]
    }
   ],
   "source": [
    "x1=5\n",
    "print(x1)"
   ]
  },
  {
   "cell_type": "code",
   "execution_count": 2,
   "id": "2929a100",
   "metadata": {},
   "outputs": [
    {
     "data": {
      "text/plain": [
       "3.2"
      ]
     },
     "execution_count": 2,
     "metadata": {},
     "output_type": "execute_result"
    }
   ],
   "source": [
    "x2=3.2\n",
    "x2"
   ]
  },
  {
   "cell_type": "code",
   "execution_count": 6,
   "id": "99fc1a30",
   "metadata": {},
   "outputs": [
    {
     "data": {
      "text/plain": [
       "int"
      ]
     },
     "execution_count": 6,
     "metadata": {},
     "output_type": "execute_result"
    }
   ],
   "source": [
    "type(x1)"
   ]
  },
  {
   "cell_type": "code",
   "execution_count": 8,
   "id": "7acfa7d0",
   "metadata": {},
   "outputs": [
    {
     "data": {
      "text/plain": [
       "3"
      ]
     },
     "execution_count": 8,
     "metadata": {},
     "output_type": "execute_result"
    }
   ],
   "source": [
    "int(x2)"
   ]
  },
  {
   "cell_type": "code",
   "execution_count": 11,
   "id": "487819ae",
   "metadata": {},
   "outputs": [
    {
     "data": {
      "text/plain": [
       "bool"
      ]
     },
     "execution_count": 11,
     "metadata": {},
     "output_type": "execute_result"
    }
   ],
   "source": [
    "a=True\n",
    "type(a)"
   ]
  },
  {
   "cell_type": "code",
   "execution_count": 12,
   "id": "b60fd5b2",
   "metadata": {},
   "outputs": [
    {
     "name": "stdout",
     "output_type": "stream",
     "text": [
      "5Dollars\n"
     ]
    }
   ],
   "source": [
    "b=\"Dollars\"\n",
    "print(str(x1) + b)"
   ]
  },
  {
   "cell_type": "code",
   "execution_count": 13,
   "id": "5699428f",
   "metadata": {},
   "outputs": [
    {
     "name": "stdout",
     "output_type": "stream",
     "text": [
      "5 Dollars\n"
     ]
    }
   ],
   "source": [
    "b=\"Dollars\"\n",
    "print(str(x1)+\" \"+ b)"
   ]
  },
  {
   "cell_type": "code",
   "execution_count": 14,
   "id": "f2a612d2",
   "metadata": {},
   "outputs": [
    {
     "name": "stdout",
     "output_type": "stream",
     "text": [
      "RedCar\n"
     ]
    }
   ],
   "source": [
    "print(\"Red\"+\"Car\")"
   ]
  },
  {
   "cell_type": "code",
   "execution_count": 15,
   "id": "ba113d0c",
   "metadata": {},
   "outputs": [
    {
     "name": "stdout",
     "output_type": "stream",
     "text": [
      "Red Car\n"
     ]
    }
   ],
   "source": [
    "print(\"Red\",\"Car\")"
   ]
  },
  {
   "cell_type": "code",
   "execution_count": 16,
   "id": "ae0fc504",
   "metadata": {},
   "outputs": [
    {
     "data": {
      "text/plain": [
       "(3, 5, 8.2, 'hello')"
      ]
     },
     "execution_count": 16,
     "metadata": {},
     "output_type": "execute_result"
    }
   ],
   "source": [
    "3,5,8.2,\"hello\""
   ]
  }
 ],
 "metadata": {
  "kernelspec": {
   "display_name": "Python 3 (ipykernel)",
   "language": "python",
   "name": "python3"
  },
  "language_info": {
   "codemirror_mode": {
    "name": "ipython",
    "version": 3
   },
   "file_extension": ".py",
   "mimetype": "text/x-python",
   "name": "python",
   "nbconvert_exporter": "python",
   "pygments_lexer": "ipython3",
   "version": "3.10.9"
  }
 },
 "nbformat": 4,
 "nbformat_minor": 5
}
